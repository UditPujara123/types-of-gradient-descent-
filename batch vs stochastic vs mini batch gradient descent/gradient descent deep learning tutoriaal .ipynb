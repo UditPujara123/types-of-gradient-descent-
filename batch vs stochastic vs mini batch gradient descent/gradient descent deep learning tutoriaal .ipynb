{
 "cells": [
  {
   "cell_type": "code",
   "execution_count": 1,
   "id": "77895f2d",
   "metadata": {},
   "outputs": [],
   "source": [
    "import pandas as pd \n",
    "import numpy as np\n",
    "import matplotlib.pyplot as plt\n",
    "%matplotlib inline\n",
    "from sklearn import preprocessing \n",
    "sx=preprocessing.MinMaxScaler()\n",
    "sy=preprocessing.MinMaxScaler()"
   ]
  },
  {
   "cell_type": "code",
   "execution_count": 29,
   "id": "abd0f460",
   "metadata": {},
   "outputs": [],
   "source": [
    "df=pd.read_csv('C:\\\\Users\\\\hp\\\\Desktop\\\\Book2.csv')"
   ]
  },
  {
   "cell_type": "code",
   "execution_count": 30,
   "id": "655a741d",
   "metadata": {},
   "outputs": [
    {
     "data": {
      "text/html": [
       "<div>\n",
       "<style scoped>\n",
       "    .dataframe tbody tr th:only-of-type {\n",
       "        vertical-align: middle;\n",
       "    }\n",
       "\n",
       "    .dataframe tbody tr th {\n",
       "        vertical-align: top;\n",
       "    }\n",
       "\n",
       "    .dataframe thead th {\n",
       "        text-align: right;\n",
       "    }\n",
       "</style>\n",
       "<table border=\"1\" class=\"dataframe\">\n",
       "  <thead>\n",
       "    <tr style=\"text-align: right;\">\n",
       "      <th></th>\n",
       "      <th>total_sqft</th>\n",
       "      <th>bedrooms</th>\n",
       "      <th>price</th>\n",
       "    </tr>\n",
       "  </thead>\n",
       "  <tbody>\n",
       "    <tr>\n",
       "      <th>0</th>\n",
       "      <td>1056</td>\n",
       "      <td>2</td>\n",
       "      <td>39.07</td>\n",
       "    </tr>\n",
       "    <tr>\n",
       "      <th>1</th>\n",
       "      <td>2600</td>\n",
       "      <td>4</td>\n",
       "      <td>120.00</td>\n",
       "    </tr>\n",
       "    <tr>\n",
       "      <th>2</th>\n",
       "      <td>1440</td>\n",
       "      <td>3</td>\n",
       "      <td>62.00</td>\n",
       "    </tr>\n",
       "    <tr>\n",
       "      <th>3</th>\n",
       "      <td>1521</td>\n",
       "      <td>3</td>\n",
       "      <td>95.00</td>\n",
       "    </tr>\n",
       "    <tr>\n",
       "      <th>4</th>\n",
       "      <td>1200</td>\n",
       "      <td>2</td>\n",
       "      <td>51.00</td>\n",
       "    </tr>\n",
       "    <tr>\n",
       "      <th>5</th>\n",
       "      <td>1170</td>\n",
       "      <td>2</td>\n",
       "      <td>38.00</td>\n",
       "    </tr>\n",
       "    <tr>\n",
       "      <th>6</th>\n",
       "      <td>2732</td>\n",
       "      <td>4</td>\n",
       "      <td>204.00</td>\n",
       "    </tr>\n",
       "    <tr>\n",
       "      <th>7</th>\n",
       "      <td>3300</td>\n",
       "      <td>4</td>\n",
       "      <td>600.00</td>\n",
       "    </tr>\n",
       "    <tr>\n",
       "      <th>8</th>\n",
       "      <td>1310</td>\n",
       "      <td>3</td>\n",
       "      <td>63.25</td>\n",
       "    </tr>\n",
       "    <tr>\n",
       "      <th>9</th>\n",
       "      <td>1020</td>\n",
       "      <td>6</td>\n",
       "      <td>370.00</td>\n",
       "    </tr>\n",
       "    <tr>\n",
       "      <th>10</th>\n",
       "      <td>1800</td>\n",
       "      <td>3</td>\n",
       "      <td>70.00</td>\n",
       "    </tr>\n",
       "    <tr>\n",
       "      <th>11</th>\n",
       "      <td>2785</td>\n",
       "      <td>4</td>\n",
       "      <td>295.00</td>\n",
       "    </tr>\n",
       "    <tr>\n",
       "      <th>12</th>\n",
       "      <td>1000</td>\n",
       "      <td>2</td>\n",
       "      <td>38.00</td>\n",
       "    </tr>\n",
       "    <tr>\n",
       "      <th>13</th>\n",
       "      <td>1100</td>\n",
       "      <td>2</td>\n",
       "      <td>40.00</td>\n",
       "    </tr>\n",
       "    <tr>\n",
       "      <th>14</th>\n",
       "      <td>2250</td>\n",
       "      <td>3</td>\n",
       "      <td>148.00</td>\n",
       "    </tr>\n",
       "    <tr>\n",
       "      <th>15</th>\n",
       "      <td>1175</td>\n",
       "      <td>2</td>\n",
       "      <td>73.50</td>\n",
       "    </tr>\n",
       "    <tr>\n",
       "      <th>16</th>\n",
       "      <td>1180</td>\n",
       "      <td>3</td>\n",
       "      <td>48.00</td>\n",
       "    </tr>\n",
       "    <tr>\n",
       "      <th>17</th>\n",
       "      <td>1540</td>\n",
       "      <td>3</td>\n",
       "      <td>60.00</td>\n",
       "    </tr>\n",
       "    <tr>\n",
       "      <th>18</th>\n",
       "      <td>2770</td>\n",
       "      <td>3</td>\n",
       "      <td>290.00</td>\n",
       "    </tr>\n",
       "    <tr>\n",
       "      <th>19</th>\n",
       "      <td>1100</td>\n",
       "      <td>2</td>\n",
       "      <td>48.00</td>\n",
       "    </tr>\n",
       "    <tr>\n",
       "      <th>20</th>\n",
       "      <td>600</td>\n",
       "      <td>1</td>\n",
       "      <td>25.25</td>\n",
       "    </tr>\n",
       "    <tr>\n",
       "      <th>21</th>\n",
       "      <td>1755</td>\n",
       "      <td>3</td>\n",
       "      <td>56.00</td>\n",
       "    </tr>\n",
       "    <tr>\n",
       "      <th>22</th>\n",
       "      <td>2800</td>\n",
       "      <td>4</td>\n",
       "      <td>23.10</td>\n",
       "    </tr>\n",
       "    <tr>\n",
       "      <th>23</th>\n",
       "      <td>1767</td>\n",
       "      <td>3</td>\n",
       "      <td>81.00</td>\n",
       "    </tr>\n",
       "  </tbody>\n",
       "</table>\n",
       "</div>"
      ],
      "text/plain": [
       "    total_sqft  bedrooms   price\n",
       "0         1056         2   39.07\n",
       "1         2600         4  120.00\n",
       "2         1440         3   62.00\n",
       "3         1521         3   95.00\n",
       "4         1200         2   51.00\n",
       "5         1170         2   38.00\n",
       "6         2732         4  204.00\n",
       "7         3300         4  600.00\n",
       "8         1310         3   63.25\n",
       "9         1020         6  370.00\n",
       "10        1800         3   70.00\n",
       "11        2785         4  295.00\n",
       "12        1000         2   38.00\n",
       "13        1100         2   40.00\n",
       "14        2250         3  148.00\n",
       "15        1175         2   73.50\n",
       "16        1180         3   48.00\n",
       "17        1540         3   60.00\n",
       "18        2770         3  290.00\n",
       "19        1100         2   48.00\n",
       "20         600         1   25.25\n",
       "21        1755         3   56.00\n",
       "22        2800         4   23.10\n",
       "23        1767         3   81.00"
      ]
     },
     "execution_count": 30,
     "metadata": {},
     "output_type": "execute_result"
    }
   ],
   "source": [
    "df"
   ]
  },
  {
   "cell_type": "code",
   "execution_count": 38,
   "id": "f80745b8",
   "metadata": {},
   "outputs": [],
   "source": [
    "scaled_x=sx.fit_transform(df.drop('price', axis = 'columns'))\n",
    "scaled_y=sy.fit_transform(df['price'].values.reshape(df.shape[0],1))"
   ]
  },
  {
   "cell_type": "code",
   "execution_count": 39,
   "id": "b0808460",
   "metadata": {},
   "outputs": [
    {
     "data": {
      "text/plain": [
       "array([[0.16888889, 0.2       ],\n",
       "       [0.74074074, 0.6       ],\n",
       "       [0.31111111, 0.4       ],\n",
       "       [0.34111111, 0.4       ],\n",
       "       [0.22222222, 0.2       ],\n",
       "       [0.21111111, 0.2       ],\n",
       "       [0.78962963, 0.6       ],\n",
       "       [1.        , 0.6       ],\n",
       "       [0.26296296, 0.4       ],\n",
       "       [0.15555556, 1.        ],\n",
       "       [0.44444444, 0.4       ],\n",
       "       [0.80925926, 0.6       ],\n",
       "       [0.14814815, 0.2       ],\n",
       "       [0.18518519, 0.2       ],\n",
       "       [0.61111111, 0.4       ],\n",
       "       [0.21296296, 0.2       ],\n",
       "       [0.21481481, 0.4       ],\n",
       "       [0.34814815, 0.4       ],\n",
       "       [0.8037037 , 0.4       ],\n",
       "       [0.18518519, 0.2       ],\n",
       "       [0.        , 0.        ],\n",
       "       [0.42777778, 0.4       ],\n",
       "       [0.81481481, 0.6       ],\n",
       "       [0.43222222, 0.4       ]])"
      ]
     },
     "execution_count": 39,
     "metadata": {},
     "output_type": "execute_result"
    }
   ],
   "source": [
    "scaled_x"
   ]
  },
  {
   "cell_type": "code",
   "execution_count": 40,
   "id": "632de67d",
   "metadata": {},
   "outputs": [
    {
     "data": {
      "text/plain": [
       "array([[0.02768244],\n",
       "       [0.16796672],\n",
       "       [0.06742936],\n",
       "       [0.12463165],\n",
       "       [0.04836193],\n",
       "       [0.0258277 ],\n",
       "       [0.31357254],\n",
       "       [1.        ],\n",
       "       [0.06959612],\n",
       "       [0.60131739],\n",
       "       [0.08129659],\n",
       "       [0.47131219],\n",
       "       [0.0258277 ],\n",
       "       [0.02929451],\n",
       "       [0.21650199],\n",
       "       [0.08736349],\n",
       "       [0.04316173],\n",
       "       [0.06396256],\n",
       "       [0.46264517],\n",
       "       [0.04316173],\n",
       "       [0.00372682],\n",
       "       [0.05702895],\n",
       "       [0.        ],\n",
       "       [0.10036401]])"
      ]
     },
     "execution_count": 40,
     "metadata": {},
     "output_type": "execute_result"
    }
   ],
   "source": [
    "scaled_y"
   ]
  },
  {
   "cell_type": "code",
   "execution_count": 109,
   "id": "0d1c2454",
   "metadata": {},
   "outputs": [],
   "source": [
    "def batch_gradient_descent(X,y_true,epochs,learning_rate=0.01):\n",
    "    number_of_features=X.shape[1]\n",
    "    w=np.ones(shape=(number_of_features))\n",
    "    b=0\n",
    "    total_samples=X.shape[0]\n",
    "    cost_list=[]\n",
    "    epoch_list=[]\n",
    "    for i  in range (epochs):\n",
    "     y_predicted=np.dot(w,scaled_x.T)+b\n",
    "     w_grad=-(2/total_samples)*(X.T.dot(y_true-y_predicted))\n",
    "     b_grad=-(2/total_samples)*(np.sum(y_true-y_predicted))\n",
    "     \n",
    "        \n",
    "     w=w-learning_rate*w_grad\n",
    "     b=b-learning_rate*b_grad\n",
    "    \n",
    "     cost=np.mean(np.square(y_true-y_predicted))\n",
    "    \n",
    "     if i%10==0:\n",
    "        \n",
    "        cost_list.append(cost)\n",
    "        epoch_list.append(i)\n",
    "        \n",
    "    return w,b,cost,cost_list,epoch_list\n",
    "w,b,cost,cost_list,epoch_list=batch_gradient_descent(scaled_x,scaled_y.reshape(scaled_y.shape[0],),1000)\n"
   ]
  },
  {
   "cell_type": "code",
   "execution_count": 110,
   "id": "aa918f55",
   "metadata": {
    "scrolled": true
   },
   "outputs": [
    {
     "data": {
      "text/plain": [
       "(array([0.41836408, 0.59463284]),\n",
       " -0.23800254848438993,\n",
       " 0.029778954427842147,\n",
       " [0.4905878496406493,\n",
       "  0.3076501980637707,\n",
       "  0.2012745756231784,\n",
       "  0.13929503997315315,\n",
       "  0.10306292747174345,\n",
       "  0.08176631475994278,\n",
       "  0.06913668806679636,\n",
       "  0.061539612319658904,\n",
       "  0.056867783492673275,\n",
       "  0.053899268060965656,\n",
       "  0.05192543782550226,\n",
       "  0.05053526245491191,\n",
       "  0.049490251474044254,\n",
       "  0.04865195088574281,\n",
       "  0.047939908700318966,\n",
       "  0.04730730502409808,\n",
       "  0.04672682329933945,\n",
       "  0.04618245892467624,\n",
       "  0.045664770115753366,\n",
       "  0.0451681244315078,\n",
       "  0.04468910230462348,\n",
       "  0.0442255713564134,\n",
       "  0.043776149606851424,\n",
       "  0.04333989415244947,\n",
       "  0.0429161205638063,\n",
       "  0.04250429807184689,\n",
       "  0.04210398869606036,\n",
       "  0.04171481185131873,\n",
       "  0.04133642372890474,\n",
       "  0.040968505245739084,\n",
       "  0.04061075496375476,\n",
       "  0.0402628848933494,\n",
       "  0.039924617971431126,\n",
       "  0.03959568651278101,\n",
       "  0.039275831228094485,\n",
       "  0.03896480057288407,\n",
       "  0.038662350290463,\n",
       "  0.03836824306964693,\n",
       "  0.038082248271102896,\n",
       "  0.03780414169557543,\n",
       "  0.0375337053784132,\n",
       "  0.03727072740130887,\n",
       "  0.037015001715929856,\n",
       "  0.03676632797630137,\n",
       "  0.036524511378070605,\n",
       "  0.03628936250351764,\n",
       "  0.03606069717160627,\n",
       "  0.035838336292618365,\n",
       "  0.035622105727060656,\n",
       "  0.03541183614861953,\n",
       "  0.0352073629109895,\n",
       "  0.035008525918433085,\n",
       "  0.0348151694999475,\n",
       "  0.034627142286926905,\n",
       "  0.034444297094216134,\n",
       "  0.03426649080445852,\n",
       "  0.03409358425564412,\n",
       "  0.03392544213176855,\n",
       "  0.03376193285651568,\n",
       "  0.033602928489880175,\n",
       "  0.03344830462764824,\n",
       "  0.03329794030365744,\n",
       "  0.03315171789475881,\n",
       "  0.03300952302840618,\n",
       "  0.03287124449280039,\n",
       "  0.032736774149517554,\n",
       "  0.032606006848552735,\n",
       "  0.03247884034571224,\n",
       "  0.032355175222289666,\n",
       "  0.03223491480696242,\n",
       "  0.03211796509984748,\n",
       "  0.03200423469865662,\n",
       "  0.03189363472689305,\n",
       "  0.03178607876403306,\n",
       "  0.03168148277763779,\n",
       "  0.03157976505734177,\n",
       "  0.03148084615066635,\n",
       "  0.031384648800607456,\n",
       "  0.03129109788494891,\n",
       "  0.031200120357253208,\n",
       "  0.03111164518948378,\n",
       "  0.031025603316213252,\n",
       "  0.030941927580374246,\n",
       "  0.030860552680509728,\n",
       "  0.03078141511948169,\n",
       "  0.030704453154597706,\n",
       "  0.030629606749116273,\n",
       "  0.030556817525092695,\n",
       "  0.03048602871752858,\n",
       "  0.030417185129788804,\n",
       "  0.030350233090250988,\n",
       "  0.030285120410153344,\n",
       "  0.030221796342607795,\n",
       "  0.030160211542746174,\n",
       "  0.030100318028968103,\n",
       "  0.0300420691452602,\n",
       "  0.02998541952455693,\n",
       "  0.029930325053114243,\n",
       "  0.02987674283586821,\n",
       "  0.029824631162751147],\n",
       " [0,\n",
       "  10,\n",
       "  20,\n",
       "  30,\n",
       "  40,\n",
       "  50,\n",
       "  60,\n",
       "  70,\n",
       "  80,\n",
       "  90,\n",
       "  100,\n",
       "  110,\n",
       "  120,\n",
       "  130,\n",
       "  140,\n",
       "  150,\n",
       "  160,\n",
       "  170,\n",
       "  180,\n",
       "  190,\n",
       "  200,\n",
       "  210,\n",
       "  220,\n",
       "  230,\n",
       "  240,\n",
       "  250,\n",
       "  260,\n",
       "  270,\n",
       "  280,\n",
       "  290,\n",
       "  300,\n",
       "  310,\n",
       "  320,\n",
       "  330,\n",
       "  340,\n",
       "  350,\n",
       "  360,\n",
       "  370,\n",
       "  380,\n",
       "  390,\n",
       "  400,\n",
       "  410,\n",
       "  420,\n",
       "  430,\n",
       "  440,\n",
       "  450,\n",
       "  460,\n",
       "  470,\n",
       "  480,\n",
       "  490,\n",
       "  500,\n",
       "  510,\n",
       "  520,\n",
       "  530,\n",
       "  540,\n",
       "  550,\n",
       "  560,\n",
       "  570,\n",
       "  580,\n",
       "  590,\n",
       "  600,\n",
       "  610,\n",
       "  620,\n",
       "  630,\n",
       "  640,\n",
       "  650,\n",
       "  660,\n",
       "  670,\n",
       "  680,\n",
       "  690,\n",
       "  700,\n",
       "  710,\n",
       "  720,\n",
       "  730,\n",
       "  740,\n",
       "  750,\n",
       "  760,\n",
       "  770,\n",
       "  780,\n",
       "  790,\n",
       "  800,\n",
       "  810,\n",
       "  820,\n",
       "  830,\n",
       "  840,\n",
       "  850,\n",
       "  860,\n",
       "  870,\n",
       "  880,\n",
       "  890,\n",
       "  900,\n",
       "  910,\n",
       "  920,\n",
       "  930,\n",
       "  940,\n",
       "  950,\n",
       "  960,\n",
       "  970,\n",
       "  980,\n",
       "  990])"
      ]
     },
     "execution_count": 110,
     "metadata": {},
     "output_type": "execute_result"
    }
   ],
   "source": [
    "w,b,cost,cost_list,epoch_list"
   ]
  },
  {
   "cell_type": "code",
   "execution_count": 111,
   "id": "76aef118",
   "metadata": {},
   "outputs": [
    {
     "data": {
      "text/plain": [
       "[<matplotlib.lines.Line2D at 0x1724f06a790>]"
      ]
     },
     "execution_count": 111,
     "metadata": {},
     "output_type": "execute_result"
    },
    {
     "data": {
      "image/png": "[encoded data removed]",
      "text/plain": [
       "<Figure size 432x288 with 1 Axes>"
      ]
     },
     "metadata": {
      "needs_background": "light"
     },
     "output_type": "display_data"
    }
   ],
   "source": [
    "plt.xlabel('epoch')\n",
    "plt.ylabel('cost')\n",
    "plt.plot(epoch_list,cost_list)\n"
   ]
  },
  {
   "cell_type": "code",
   "execution_count": 112,
   "id": "ee179d8d",
   "metadata": {},
   "outputs": [],
   "source": [
    "import random"
   ]
  },
  {
   "cell_type": "code",
   "execution_count": 119,
   "id": "32a71796",
   "metadata": {},
   "outputs": [],
   "source": [
    "def stochastic_gradient_descent(X,y_true,epochs,learning_rate=0.01):\n",
    "    number_of_features=X.shape[1]\n",
    "    w=np.ones(shape=(number_of_features))\n",
    "    b=0\n",
    "    total_samples=X.shape[0]\n",
    "    cost_list=[]\n",
    "    epoch_list=[]\n",
    "    for i  in range (epochs):\n",
    "     random_index=random.randint(0,total_samples-1)\n",
    "     samples_x=x[random_index]\n",
    "     samples_y=y_true[random_index]\n",
    "     y_predicted=np.dot(w,samples_x.T)+b\n",
    "     w_grad=-(2/total_samples)*(samples_x.T.dot(samples_y-y_predicted))\n",
    "     b_grad=-(2/total_samples)*(np.sum(samples_y-y_predicted))\n",
    "     \n",
    "        \n",
    "     w=w-learning_rate*w_grad\n",
    "     b=b-learning_rate*b_grad\n",
    "    \n",
    "     cost=np.square(samples_y-y_predicted)\n",
    "    \n",
    "     if i%10==0:\n",
    "        \n",
    "        cost_list.append(cost)\n",
    "        epoch_list.append(i)\n",
    "        \n",
    "    return w,b,cost,cost_list,epoch_list\n",
    "s_w,s_b,s_cost,s_cost_list,s_epoch_list=stochastic_gradient_descent(scaled_x,scaled_y.reshape(scaled_y.shape[0],),10000)\n"
   ]
  },
  {
   "cell_type": "code",
   "execution_count": 120,
   "id": "1f3ff6d2",
   "metadata": {},
   "outputs": [
    {
     "data": {
      "text/plain": [
       "(array([0.56942578, 0.68890208]), -0.3437998072265445, 0.018948821283294472)"
      ]
     },
     "execution_count": 120,
     "metadata": {},
     "output_type": "execute_result"
    }
   ],
   "source": [
    "s_w,s_b,s_cost"
   ]
  },
  {
   "cell_type": "code",
   "execution_count": 121,
   "id": "6b3f2a22",
   "metadata": {},
   "outputs": [
    {
     "data": {
      "text/plain": [
       "[<matplotlib.lines.Line2D at 0x1724dd66460>]"
      ]
     },
     "execution_count": 121,
     "metadata": {},
     "output_type": "execute_result"
    },
    {
     "data": {
      "image/png": "[encoded data removed]",
      "text/plain": [
       "<Figure size 432x288 with 1 Axes>"
      ]
     },
     "metadata": {
      "needs_background": "light"
     },
     "output_type": "display_data"
    }
   ],
   "source": [
    "plt.xlabel('epoch')\n",
    "plt.ylabel('cost')\n",
    "plt.plot(s_epoch_list,s_cost_list)\n"
   ]
  },
  {
   "cell_type": "code",
   "execution_count": 116,
   "id": "3a9ae4e7",
   "metadata": {},
   "outputs": [],
   "source": [
    "def minibatch_gradient_descent(X,y_true,epochs,learning_rate=0.01):\n",
    "    number_of_features=X.shape[1]\n",
    "    w=np.ones(shape=(number_of_features))\n",
    "    b=0\n",
    "    total_samples=X.shape[0]\n",
    "    cost_list=[]\n",
    "    epoch_list=[]\n",
    "    for i  in range (epochs):\n",
    "     for epoch in range(100):\n",
    "       random_ids = np.random.randint(len(df), size=5)\n",
    "       samples_x=x[random_ids]\n",
    "       samples_y=y_true[random_ids]\n",
    "       y_predicted=np.dot(w,samples_x.T)+b\n",
    "       w_grad=-(2/total_samples)*(samples_x.T.dot(samples_y-y_predicted))\n",
    "       b_grad=-(2/total_samples)*(np.sum(samples_y-y_predicted))\n",
    "     \n",
    "        \n",
    "     w=w-learning_rate*w_grad\n",
    "     b=b-learning_rate*b_grad\n",
    "    \n",
    "     cost=np.mean(np.square(samples_y-y_predicted))\n",
    "    \n",
    "     if i%10==0:\n",
    "        \n",
    "        cost_list.append(cost)\n",
    "        epoch_list.append(i)\n",
    "        \n",
    "    return w,b,cost,cost_list,epoch_list\n",
    "m_w,m_b,m_cost,m_cost_list,m_epoch_list=minibatch_gradient_descent(scaled_x,scaled_y.reshape(scaled_y.shape[0],),1000)\n"
   ]
  },
  {
   "cell_type": "code",
   "execution_count": 117,
   "id": "5c5299a8",
   "metadata": {},
   "outputs": [
    {
     "data": {
      "text/plain": [
       "(array([0.6513615 , 0.73065513]), -0.39701554917589504, 0.03327211936615063)"
      ]
     },
     "execution_count": 117,
     "metadata": {},
     "output_type": "execute_result"
    }
   ],
   "source": [
    "m_w,m_b,m_cost\n",
    "\n",
    "\n"
   ]
  },
  {
   "cell_type": "code",
   "execution_count": 118,
   "id": "17077fb8",
   "metadata": {},
   "outputs": [
    {
     "data": {
      "text/plain": [
       "[<matplotlib.lines.Line2D at 0x1724f12a280>]"
      ]
     },
     "execution_count": 118,
     "metadata": {},
     "output_type": "execute_result"
    },
    {
     "data": {
      "image/png": "[encoded data removed]",
      "text/plain": [
       "<Figure size 432x288 with 1 Axes>"
      ]
     },
     "metadata": {
      "needs_background": "light"
     },
     "output_type": "display_data"
    }
   ],
   "source": [
    "plt.xlabel('epoch')\n",
    "plt.ylabel('cost')\n",
    "plt.plot(m_epoch_list,m_cost_list)"
   ]
  },
  {
   "cell_type": "code",
   "execution_count": null,
   "id": "60963312",
   "metadata": {},
   "outputs": [],
   "source": []
  }
 ],
 "metadata": {
  "kernelspec": {
   "display_name": "Python 3",
   "language": "python",
   "name": "python3"
  },
  "language_info": {
   "codemirror_mode": {
    "name": "ipython",
    "version": 3
   },
   "file_extension": ".py",
   "mimetype": "text/x-python",
   "name": "python",
   "nbconvert_exporter": "python",
   "pygments_lexer": "ipython3",
   "version": "3.8.8"
  }
 },
 "nbformat": 4,
 "nbformat_minor": 5
}
